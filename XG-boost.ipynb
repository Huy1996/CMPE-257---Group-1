{
 "cells": [
  {
   "cell_type": "code",
   "execution_count": null,
   "metadata": {},
   "outputs": [
    {
     "name": "stdout",
     "output_type": "stream",
     "text": [
      "Collecting xgboost\n",
      "  Downloading xgboost-2.1.4-py3-none-win_amd64.whl.metadata (2.1 kB)\n",
      "Requirement already satisfied: numpy in c:\\users\\minhh\\desktop\\data\\.env\\lib\\site-packages (from xgboost) (2.2.3)\n",
      "Requirement already satisfied: scipy in c:\\users\\minhh\\desktop\\data\\.env\\lib\\site-packages (from xgboost) (1.15.2)\n",
      "Downloading xgboost-2.1.4-py3-none-win_amd64.whl (124.9 MB)\n",
      "   ---------------------------------------- 0.0/124.9 MB ? eta -:--:--\n",
      "   --- ------------------------------------ 12.3/124.9 MB 70.5 MB/s eta 0:00:02\n",
      "   ------- -------------------------------- 24.9/124.9 MB 63.2 MB/s eta 0:00:02\n",
      "   ---------- ----------------------------- 33.8/124.9 MB 55.1 MB/s eta 0:00:02\n",
      "   ---------------- ----------------------- 50.6/124.9 MB 60.8 MB/s eta 0:00:02\n",
      "   --------------------- ------------------ 68.7/124.9 MB 65.4 MB/s eta 0:00:01\n",
      "   --------------------------- ------------ 86.5/124.9 MB 69.0 MB/s eta 0:00:01\n",
      "   -------------------------------- ------ 104.9/124.9 MB 71.3 MB/s eta 0:00:01\n",
      "   --------------------------------------  122.4/124.9 MB 72.4 MB/s eta 0:00:01\n",
      "   --------------------------------------  124.8/124.9 MB 73.1 MB/s eta 0:00:01\n",
      "   --------------------------------------- 124.9/124.9 MB 63.3 MB/s eta 0:00:00\n",
      "Installing collected packages: xgboost\n",
      "Successfully installed xgboost-2.1.4\n",
      "Note: you may need to restart the kernel to use updated packages.\n"
     ]
    }
   ],
   "source": []
  },
  {
   "cell_type": "code",
   "execution_count": null,
   "metadata": {},
   "outputs": [],
   "source": []
  }
 ],
 "metadata": {
  "kernelspec": {
   "display_name": ".env",
   "language": "python",
   "name": "python3"
  },
  "language_info": {
   "codemirror_mode": {
    "name": "ipython",
    "version": 3
   },
   "file_extension": ".py",
   "mimetype": "text/x-python",
   "name": "python",
   "nbconvert_exporter": "python",
   "pygments_lexer": "ipython3",
   "version": "3.12.4"
  }
 },
 "nbformat": 4,
 "nbformat_minor": 2
}
